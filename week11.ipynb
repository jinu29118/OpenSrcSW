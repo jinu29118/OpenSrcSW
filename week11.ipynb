{
 "cells": [
  {
   "cell_type": "code",
   "execution_count": 9,
   "metadata": {},
   "outputs": [
    {
     "name": "stdout",
     "output_type": "stream",
     "text": [
      "cp file1.txt file2.txt\n",
      "동해물과 백두산이 마르고 닳도록\n",
      "하느님이 보우하사 우리나라 만세\n",
      "무궁화 삼천리 화려 강산\n",
      "대한 사람 대한으로 길이 보전하세\n"
     ]
    }
   ],
   "source": [
    "#실습 6 copy\n",
    "userinput=input().split()\n",
    "\n",
    "f1=open(userinput[1],'r')\n",
    "data=f1.read()\n",
    "f1.close()\n",
    "\n",
    "f2=open(userinput[2],'w')\n",
    "f2.write(data)\n",
    "f2.close()\n",
    "\n",
    "print(data)\n"
   ]
  },
  {
   "cell_type": "code",
   "execution_count": 10,
   "metadata": {},
   "outputs": [
    {
     "name": "stdout",
     "output_type": "stream",
     "text": [
      "wc file1.txt\n",
      "# of lines : 4\n",
      "# of words : 17\n"
     ]
    }
   ],
   "source": [
    "#실습 7 wc\n",
    "\n",
    "userinput=input().split()\n",
    "\n",
    "f=open(userinput[1],'r')\n",
    "lines=f.readlines()\n",
    "f.close()\n",
    "\n",
    "words=[]\n",
    "for i in lines:\n",
    "    word=i.split(\" \")\n",
    "    for j in word:\n",
    "        words.append(j)\n",
    "\n",
    "print(\"# of lines : {}\".format(len(lines)))\n",
    "print(\"# of words : {}\".format(len(words)))"
   ]
  },
  {
   "cell_type": "code",
   "execution_count": 8,
   "metadata": {},
   "outputs": [
    {
     "name": "stdout",
     "output_type": "stream",
     "text": [
      "5 + 6 = 11 입니다.\n",
      "8 - 3 = 5 입니다.\n",
      "4 x 8 = 32 입니다.\n",
      "10 / 5 = 2.0 입니다.\n"
     ]
    }
   ],
   "source": [
    "#실습 8 사칙연산 클래스\n",
    "class Calc:\n",
    "    def sum(self,a,b):\n",
    "        result=a+b\n",
    "        print(\"{} + {} = {} 입니다.\".format(a,b,result))\n",
    "    def sub(self,a,b):\n",
    "        result=a-b\n",
    "        print(\"{} - {} = {} 입니다.\".format(a,b,result))\n",
    "    def mul(self,a,b):\n",
    "        result=a*b\n",
    "        print(\"{} x {} = {} 입니다.\".format(a,b,result))\n",
    "    def div(self,a,b):\n",
    "        result=a/b\n",
    "        print(\"{} / {} = {} 입니다.\".format(a,b,result))\n",
    "        \n",
    "test=Calc()\n",
    "test.sum(5,6)\n",
    "test.sub(8,3)\n",
    "test.mul(4,8)\n",
    "test.div(10,5)"
   ]
  },
  {
   "cell_type": "code",
   "execution_count": 45,
   "metadata": {
    "scrolled": true
   },
   "outputs": [
    {
     "name": "stdout",
     "output_type": "stream",
     "text": [
      "1 + 2 - 3 * 4\n"
     ]
    },
    {
     "ename": "ValueError",
     "evalue": "invalid literal for int() with base 10: 'No Data in Stack'",
     "output_type": "error",
     "traceback": [
      "\u001b[1;31m---------------------------------------------------------------------------\u001b[0m",
      "\u001b[1;31mValueError\u001b[0m                                Traceback (most recent call last)",
      "\u001b[1;32m<ipython-input-45-150b2e652e9f>\u001b[0m in \u001b[0;36m<module>\u001b[1;34m\u001b[0m\n\u001b[0;32m     34\u001b[0m     \u001b[1;32mif\u001b[0m \u001b[0mnumbers\u001b[0m\u001b[1;33m:\u001b[0m\u001b[1;33m\u001b[0m\u001b[1;33m\u001b[0m\u001b[0m\n\u001b[0;32m     35\u001b[0m         \u001b[0ma\u001b[0m\u001b[1;33m=\u001b[0m\u001b[0mint\u001b[0m\u001b[1;33m(\u001b[0m\u001b[0mnumbers\u001b[0m\u001b[1;33m.\u001b[0m\u001b[0mpop\u001b[0m\u001b[1;33m(\u001b[0m\u001b[1;33m)\u001b[0m\u001b[1;33m)\u001b[0m\u001b[1;33m\u001b[0m\u001b[1;33m\u001b[0m\u001b[0m\n\u001b[1;32m---> 36\u001b[1;33m         \u001b[0mb\u001b[0m\u001b[1;33m=\u001b[0m\u001b[0mint\u001b[0m\u001b[1;33m(\u001b[0m\u001b[0mnumbers\u001b[0m\u001b[1;33m.\u001b[0m\u001b[0mpop\u001b[0m\u001b[1;33m(\u001b[0m\u001b[1;33m)\u001b[0m\u001b[1;33m)\u001b[0m\u001b[1;33m\u001b[0m\u001b[1;33m\u001b[0m\u001b[0m\n\u001b[0m\u001b[0;32m     37\u001b[0m         \u001b[0mresult\u001b[0m\u001b[1;33m=\u001b[0m\u001b[1;36m0\u001b[0m\u001b[1;33m\u001b[0m\u001b[1;33m\u001b[0m\u001b[0m\n\u001b[0;32m     38\u001b[0m         \u001b[1;32mif\u001b[0m \u001b[0msign\u001b[0m\u001b[1;33m[\u001b[0m\u001b[1;33m-\u001b[0m\u001b[1;36m1\u001b[0m\u001b[1;33m]\u001b[0m\u001b[1;33m==\u001b[0m\u001b[1;34m\"+\"\u001b[0m\u001b[1;33m:\u001b[0m\u001b[1;33m\u001b[0m\u001b[1;33m\u001b[0m\u001b[0m\n",
      "\u001b[1;31mValueError\u001b[0m: invalid literal for int() with base 10: 'No Data in Stack'"
     ]
    }
   ],
   "source": [
    "#실습 9 계산기\n",
    "\n",
    "class Stack:\n",
    "    \n",
    "    # 초기 설정, 스택으로 사용할 리스트 선언\n",
    "    def __init__(self):\n",
    "        self.stack = []\n",
    "        \n",
    "    # In 함수 / Push 함수 List의 Append 함수 이용\n",
    "    def push(self, data):\n",
    "        self.stack.append(data)\n",
    "        \n",
    "    # Out 함수 / Pop 함수, List의 pop함수 이용\n",
    "    def pop(self):\n",
    "        if len(self.stack) <=0 :\n",
    "            return(\"No Data in Stack\")\n",
    "        else :\n",
    "            return self.stack.pop()\n",
    " \n",
    " \n",
    "cal_form=input().split()\n",
    "#for i in range(0,len(cal_form),2):\n",
    "#    cal_form[i]=int(cal_form[i])\n",
    "\n",
    "numbers = Stack()\n",
    "signs=Stack()\n",
    "\n",
    "for i in range(len(cal_form)):\n",
    "    if cal_form[i].isdecimal():\n",
    "        numbers.push(cal_form[i])\n",
    "    else:\n",
    "        signs.push(cal_form[i])\n",
    "    \n",
    "    if numbers:\n",
    "        a=int(numbers.pop())\n",
    "        b=int(numbers.pop())\n",
    "        result=0\n",
    "        if sign[-1]==\"+\":\n",
    "            result=a+b\n",
    "        elif sign[-1]=='-':\n",
    "            result=a-b\n",
    "        elif sign[-1]=='*':\n",
    "            result=a*b\n",
    "        else:\n",
    "            result=a/b\n",
    "        numbers.push(result)\n",
    "        sign.pop()\n",
    "        \n",
    "\n",
    "print(numbers.stack)\n",
    "print(signs.stack) \n",
    "\n",
    "\n",
    "        \n"
   ]
  },
  {
   "cell_type": "code",
   "execution_count": null,
   "metadata": {},
   "outputs": [],
   "source": []
  }
 ],
 "metadata": {
  "kernelspec": {
   "display_name": "Python 3",
   "language": "python",
   "name": "python3"
  },
  "language_info": {
   "codemirror_mode": {
    "name": "ipython",
    "version": 3
   },
   "file_extension": ".py",
   "mimetype": "text/x-python",
   "name": "python",
   "nbconvert_exporter": "python",
   "pygments_lexer": "ipython3",
   "version": "3.7.9"
  }
 },
 "nbformat": 4,
 "nbformat_minor": 4
}
