{
 "cells": [
  {
   "cell_type": "code",
   "execution_count": 37,
   "metadata": {},
   "outputs": [
    {
     "name": "stdout",
     "output_type": "stream",
     "text": [
      "x값 : 10.3\n",
      "372.77\n"
     ]
    }
   ],
   "source": [
    "# 실습문제 1번\n",
    "from decimal import Decimal\n",
    "\n",
    "def calculator():\n",
    "    x=Decimal(input(\"x값 : \"))\n",
    "    y=3*x**2+5*x+3\n",
    "    return y\n",
    "y=calculator()\n",
    "print(y)"
   ]
  },
  {
   "cell_type": "code",
   "execution_count": 38,
   "metadata": {},
   "outputs": [
    {
     "name": "stdout",
     "output_type": "stream",
     "text": [
      "반지름 : 0.886\n",
      "원의 둘레 : 5.56408, 원의 넓이 : 2.46488744\n"
     ]
    }
   ],
   "source": [
    "# 실습문제 2번\n",
    "from decimal import Decimal\n",
    "\n",
    "def circle():\n",
    "    pi=Decimal('3.14')\n",
    "    r=Decimal(input(\"반지름 : \"))\n",
    "    \n",
    "    # c= 둘레, s= 넓이\n",
    "    c=pi*2*r\n",
    "    s=pi*r**2\n",
    "    return(c,s)\n",
    "\n",
    "c,s=circle()\n",
    "print(\"원의 둘레 : {}, 원의 넓이 : {}\".format(c,s))\n",
    "\n"
   ]
  }
 ],
 "metadata": {
  "kernelspec": {
   "display_name": "Python 3",
   "language": "python",
   "name": "python3"
  },
  "language_info": {
   "codemirror_mode": {
    "name": "ipython",
    "version": 3
   },
   "file_extension": ".py",
   "mimetype": "text/x-python",
   "name": "python",
   "nbconvert_exporter": "python",
   "pygments_lexer": "ipython3",
   "version": "3.7.9"
  }
 },
 "nbformat": 4,
 "nbformat_minor": 4
}
