{
 "cells": [
  {
   "cell_type": "code",
   "execution_count": 3,
   "metadata": {},
   "outputs": [
    {
     "name": "stdout",
     "output_type": "stream",
     "text": [
      "Numbers? : 1 5 6 8 9 2 1 5 4 454 55 321 3365\n",
      "Max = 3365\n"
     ]
    }
   ],
   "source": [
    "# 실습 2\n",
    "\n",
    "numbers=list(map(int,input(\"Numbers? : \").split()))\n",
    "Max=max(numbers)\n",
    "print(f\"Max = {Max}\")"
   ]
  },
  {
   "cell_type": "code",
   "execution_count": 18,
   "metadata": {},
   "outputs": [
    {
     "name": "stdout",
     "output_type": "stream",
     "text": [
      "암호화하려면 1, 복호화 하려면 2를 입력하세요 : 2\n",
      "복호화 할 문자열을 입력하세요. : efg bcd\n",
      "abc def\n"
     ]
    }
   ],
   "source": [
    "# 실습 3\n",
    "\n",
    "def encoding():\n",
    "    string=input(\"암호화 할 문자열을 입력하세요. : \").split()\n",
    "    string_rev=[]\n",
    "    string_rev_ans=[]\n",
    "    for i in range(len(string)):\n",
    "        string_rev.append(string[-1-i])\n",
    "    for i in range(len(string_rev)):\n",
    "        for j in range(len(string_rev[i])):\n",
    "            code=ord(string_rev[i][j])\n",
    "            string_rev_ans.append(chr(int(code)+1))\n",
    "        if (i<len(string_rev)-1):\n",
    "            string_rev_ans.append(\" \")\n",
    "        answer=''.join(string_rev_ans)\n",
    "        \n",
    "    return answer\n",
    "\n",
    "def decoding():\n",
    "    string=input(\"복호화 할 문자열을 입력하세요. : \").split()\n",
    "    string_rev=[]\n",
    "    string_rev_ans=[]\n",
    "    for i in range(len(string)):\n",
    "        string_rev.append(string[-1-i])\n",
    "    for i in range(len(string_rev)):\n",
    "        for j in range(len(string_rev[i])):\n",
    "            code=ord(string_rev[i][j])\n",
    "            string_rev_ans.append(chr(int(code)-1))\n",
    "        if (i<len(string_rev)-1):\n",
    "            string_rev_ans.append(\" \")\n",
    "        answer=''.join(string_rev_ans)\n",
    "        \n",
    "    return answer\n",
    "\n",
    "choice=int(input(\"암호화하려면 1, 복호화 하려면 2를 입력하세요 : \"))\n",
    "if choice==1:\n",
    "    print(encoding())\n",
    "elif choice==2:\n",
    "    print(decoding())\n",
    "else:\n",
    "    print(\"잘못 입력하셨습니다.\")"
   ]
  },
  {
   "cell_type": "code",
   "execution_count": 19,
   "metadata": {},
   "outputs": [
    {
     "name": "stdout",
     "output_type": "stream",
     "text": [
      "1번의 이름과 번호를 공백을 두고 입력하세요 : abc 123\n",
      "2번의 이름과 번호를 공백을 두고 입력하세요 : def 456\n",
      "3번의 이름과 번호를 공백을 두고 입력하세요 : ghi 789\n",
      "이름으로 검색하려면 0, 번호로 검색하려면 1을 누르세요. : 0\n",
      "검색할 이름을 입력하세요 : ghi\n",
      "789\n"
     ]
    }
   ],
   "source": [
    "#실습 4\n",
    "phone_book={}\n",
    "name_book={}\n",
    "\n",
    "for i in range(3):\n",
    "    name,telnum=input(f\"{i+1}번의 이름과 번호를 공백을 두고 입력하세요 : \").split()\n",
    "    phone_book[name]=telnum\n",
    "    name_book[telnum]=name\n",
    "\n",
    "\n",
    "k=int(input(\"이름으로 검색하려면 0, 번호로 검색하려면 1을 누르세요. : \"))\n",
    "if k==0:\n",
    "    search_name=input(\"검색할 이름을 입력하세요 : \")\n",
    "    print(phone_book[search_name])\n",
    "elif k==1:\n",
    "    search_num=input(\"검색할 번호를 입력하세요 : \")\n",
    "    print(name_book[search_num])\n",
    "else:\n",
    "    print(\"잘못된 입력입니다.\")\n",
    "\n"
   ]
  },
  {
   "cell_type": "code",
   "execution_count": null,
   "metadata": {},
   "outputs": [],
   "source": []
  }
 ],
 "metadata": {
  "kernelspec": {
   "display_name": "Python 3",
   "language": "python",
   "name": "python3"
  },
  "language_info": {
   "codemirror_mode": {
    "name": "ipython",
    "version": 3
   },
   "file_extension": ".py",
   "mimetype": "text/x-python",
   "name": "python",
   "nbconvert_exporter": "python",
   "pygments_lexer": "ipython3",
   "version": "3.7.9"
  }
 },
 "nbformat": 4,
 "nbformat_minor": 4
}
