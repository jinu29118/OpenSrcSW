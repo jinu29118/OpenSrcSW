{
 "cells": [
  {
   "cell_type": "code",
   "execution_count": 58,
   "metadata": {},
   "outputs": [
    {
     "name": "stdout",
     "output_type": "stream",
     "text": [
      "(1, 2)\n",
      "(3, 4)\n",
      "(4, 6)\n"
     ]
    }
   ],
   "source": [
    "#1\n",
    "\n",
    "class Point:\n",
    "    A=0\n",
    "    B=0\n",
    "    answer=tuple()\n",
    "    def __init__(self, A,B):\n",
    "        self.A=int(A)\n",
    "        self.B=int(B)\n",
    "        self.answer=(A,B)\n",
    "    def show(self):\n",
    "        print(self.answer)\n",
    "    def __add__(self, other):\n",
    "        addition=tuple()\n",
    "        addition=(self.answer[0]+other.answer[0],self.answer[1]+other.answer[1])\n",
    "        return Point(addition[0],addition[1])\n",
    "\n",
    "a=Point(1,2)\n",
    "a.show()\n",
    "\n",
    "\n",
    "b=Point(3,4)\n",
    "b.show()\n",
    "\n",
    "a=a+b\n",
    "a.show()\n",
    "\n"
   ]
  },
  {
   "cell_type": "code",
   "execution_count": 22,
   "metadata": {},
   "outputs": [
    {
     "name": "stdout",
     "output_type": "stream",
     "text": [
      "Max Week = 5/8 ~ 5/14\n"
     ]
    }
   ],
   "source": [
    "#2\n",
    "f=open('C:/seoul.csv')\n",
    "data=csv.reader(f)\n",
    "header=next(data)\n",
    "\n",
    "diff_temp=[]\n",
    "for row in data:\n",
    "    diff_temp.append(float(row[-1])-float(row[-2]))\n",
    "\n",
    "diff_temp_week=[]\n",
    "\n",
    "for i in range(4):\n",
    "    diff_temp_sum=0\n",
    "    for j in range(7):\n",
    "        diff_temp_sum=diff_temp_sum+diff_temp[7*i+j]\n",
    "    diff_temp_week.append(diff_temp_sum)\n",
    "        \n",
    "lastweek_diff=diff_temp[28]+diff_temp[29]+diff_temp[30]\n",
    "diff_temp_week.append(lastweek_diff)\n",
    "\n",
    "\n",
    "week_start=1+(diff_temp_week.index(max(diff_temp_week)))*7\n",
    "week_last=(diff_temp_week.index(max(diff_temp_week))+1)*7\n",
    "\n",
    "print(\"Max Week = 5/{} ~ 5/{}\".format(week_start,week_last))"
   ]
  },
  {
   "cell_type": "code",
   "execution_count": null,
   "metadata": {},
   "outputs": [],
   "source": [
    "#3\n",
    "\n",
    "import numpy as np\n"
   ]
  }
 ],
 "metadata": {
  "kernelspec": {
   "display_name": "Python 3",
   "language": "python",
   "name": "python3"
  },
  "language_info": {
   "codemirror_mode": {
    "name": "ipython",
    "version": 3
   },
   "file_extension": ".py",
   "mimetype": "text/x-python",
   "name": "python",
   "nbconvert_exporter": "python",
   "pygments_lexer": "ipython3",
   "version": "3.7.9"
  }
 },
 "nbformat": 4,
 "nbformat_minor": 4
}
